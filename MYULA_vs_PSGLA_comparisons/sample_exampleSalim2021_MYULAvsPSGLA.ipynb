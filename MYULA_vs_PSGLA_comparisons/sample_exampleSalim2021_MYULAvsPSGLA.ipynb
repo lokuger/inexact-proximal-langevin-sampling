{
 "cells": [
  {
   "cell_type": "code",
   "execution_count": 1,
   "id": "b1721aa0",
   "metadata": {
    "scrolled": true
   },
   "outputs": [
    {
     "ename": "ModuleNotFoundError",
     "evalue": "No module named 'ot'",
     "output_type": "error",
     "traceback": [
      "\u001b[0;31m---------------------------------------------------------------------------\u001b[0m",
      "\u001b[0;31mModuleNotFoundError\u001b[0m                       Traceback (most recent call last)",
      "Input \u001b[0;32mIn [1]\u001b[0m, in \u001b[0;36m<cell line: 10>\u001b[0;34m()\u001b[0m\n\u001b[1;32m      7\u001b[0m \u001b[38;5;28;01mif\u001b[39;00m module_path \u001b[38;5;129;01mnot\u001b[39;00m \u001b[38;5;129;01min\u001b[39;00m sys\u001b[38;5;241m.\u001b[39mpath:\n\u001b[1;32m      8\u001b[0m     sys\u001b[38;5;241m.\u001b[39mpath\u001b[38;5;241m.\u001b[39mappend(module_path)\n\u001b[0;32m---> 10\u001b[0m \u001b[38;5;28;01mfrom\u001b[39;00m \u001b[38;5;21;01mmyula\u001b[39;00m \u001b[38;5;28;01mimport\u001b[39;00m \u001b[38;5;241m*\u001b[39m\n\u001b[1;32m     11\u001b[0m \u001b[38;5;28;01mfrom\u001b[39;00m \u001b[38;5;21;01mpsgla\u001b[39;00m \u001b[38;5;28;01mimport\u001b[39;00m \u001b[38;5;241m*\u001b[39m\n\u001b[1;32m     12\u001b[0m \u001b[38;5;28;01mimport\u001b[39;00m \u001b[38;5;21;01mdistributions\u001b[39;00m \u001b[38;5;28;01mas\u001b[39;00m \u001b[38;5;21;01mpds\u001b[39;00m\n",
      "File \u001b[0;32m~/NextcloudFAUMADS/phdErlangen/NoMADS Cambridge/code/python/myula.py:3\u001b[0m, in \u001b[0;36m<module>\u001b[0;34m\u001b[0m\n\u001b[1;32m      1\u001b[0m \u001b[38;5;28;01mimport\u001b[39;00m \u001b[38;5;21;01mnumpy\u001b[39;00m \u001b[38;5;28;01mas\u001b[39;00m \u001b[38;5;21;01mnp\u001b[39;00m\n\u001b[1;32m      2\u001b[0m \u001b[38;5;28;01mfrom\u001b[39;00m \u001b[38;5;21;01mnumpy\u001b[39;00m\u001b[38;5;21;01m.\u001b[39;00m\u001b[38;5;21;01mrandom\u001b[39;00m \u001b[38;5;28;01mimport\u001b[39;00m default_rng\n\u001b[0;32m----> 3\u001b[0m \u001b[38;5;28;01mimport\u001b[39;00m \u001b[38;5;21;01mot\u001b[39;00m\n\u001b[1;32m      5\u001b[0m \u001b[38;5;28;01mclass\u001b[39;00m \u001b[38;5;21;01mMYULA\u001b[39;00m():\n\u001b[1;32m      6\u001b[0m     \u001b[38;5;28;01mdef\u001b[39;00m \u001b[38;5;21m__init__\u001b[39m(\u001b[38;5;28mself\u001b[39m, max_iter, tau, gamma, x0, pd):\n\u001b[1;32m      7\u001b[0m         \u001b[38;5;66;03m# we're computing samples in self.x with shape (d, n_samples)\u001b[39;00m\n\u001b[1;32m      8\u001b[0m         \u001b[38;5;66;03m# expect input x0 to be (d, n_samples) as well\u001b[39;00m\n",
      "\u001b[0;31mModuleNotFoundError\u001b[0m: No module named 'ot'"
     ]
    }
   ],
   "source": [
    "import numpy as np\n",
    "import matplotlib.pyplot as plt\n",
    "\n",
    "import os\n",
    "import sys\n",
    "module_path = os.path.abspath(os.path.join('..'))\n",
    "if module_path not in sys.path:\n",
    "    sys.path.append(module_path)\n",
    "\n",
    "from myula import *\n",
    "from psgla import *\n",
    "import distributions as pds\n",
    "import potentials as pot"
   ]
  },
  {
   "cell_type": "markdown",
   "id": "3c42bf90",
   "metadata": {},
   "source": [
    "**Generate data for the likelihood function**"
   ]
  },
  {
   "cell_type": "code",
   "execution_count": 2,
   "id": "a53ffe8c",
   "metadata": {
    "scrolled": true
   },
   "outputs": [],
   "source": [
    "mu_true = 0.8\n",
    "sigma2_true = 0.5\n",
    "n_data = 10\n",
    "nu = 4\n",
    "rng = default_rng(34523)\n",
    "D = rng.normal(loc=mu_true,scale=np.sqrt(sigma2_true),size=(n_data,))"
   ]
  },
  {
   "cell_type": "markdown",
   "id": "485a7dbd",
   "metadata": {},
   "source": [
    "**Define the posterior distribution**\\\n",
    "The prior is assumed to be a Gamma distribution with shape parameter $\\alpha = \\frac{\\nu}{2}$, the likelihood is mean estimation for the data points $D_i$.\\\n",
    "Require $\\nu > 2$ since we want a log-concave distribution."
   ]
  },
  {
   "cell_type": "code",
   "execution_count": 3,
   "id": "d5f6ecc4",
   "metadata": {},
   "outputs": [
    {
     "data": {
      "image/png": "[encoded data removed]",
      "text/plain": [
       "<Figure size 360x360 with 1 Axes>"
      ]
     },
     "metadata": {
      "needs_background": "light"
     },
     "output_type": "display_data"
    }
   ],
   "source": [
    "posterior = pds.Gamma_Gauss1D_Posterior_Salim21(data=D, scale=np.sqrt(sigma2_true), nu=nu)\n",
    "# metaparameter of the distribution: norm of K in ||.||_2\n",
    "L = np.linalg.norm(posterior.F.K)**2\n",
    "t = np.reshape(np.linspace(1e-4, 5*nu+np.mean(D),500),(1,-1))\n",
    "dens_vals = posterior.pdf(t)\n",
    "\n",
    "plt.figure(figsize=(5,5))\n",
    "unscaled_dens_plot = plt.plot(np.reshape(t,(-1,)),np.reshape(dens_vals,(-1,)))\n",
    "xlims = plt.xlim(-1, 3.0)\n",
    "ylims = plt.ylim(0,2)\n",
    "mu_map = sigma2_true/(2*n_data)*(n_data/sigma2_true*np.mean(D)-1/2 + np.sqrt((1/2-n_data/sigma2_true*np.mean(D))**2 - 4*n_data/sigma2_true*(1-nu/2)))\n",
    "plt.plot([mu_map, mu_map],[0,2])\n",
    "plt.show()"
   ]
  },
  {
   "cell_type": "markdown",
   "id": "d994ea77",
   "metadata": {},
   "source": [
    "**Sample using PSGLA**"
   ]
  },
  {
   "cell_type": "code",
   "execution_count": 9,
   "id": "c7c57885",
   "metadata": {},
   "outputs": [],
   "source": [
    "tau = 0.01\n",
    "max_iter = int(np.max((500,np.round(10/tau))))\n",
    "n_samples = 50000\n",
    "x0 = np.mean(D)*np.ones((1,n_samples))\n",
    "psgla = PSGLA(max_iter, tau, x0, pd = posterior)\n",
    "\n",
    "x_psgla = psgla.simulate()"
   ]
  },
  {
   "cell_type": "markdown",
   "id": "bc7003f7",
   "metadata": {},
   "source": [
    "**Sample using MYULA**"
   ]
  },
  {
   "cell_type": "code",
   "execution_count": 12,
   "id": "7d06f6d3",
   "metadata": {},
   "outputs": [],
   "source": [
    "gamma = 1\n",
    "\n",
    "sampler_myula = MYULA(max_iter, tau, gamma, x0, pd = posterior)\n",
    "x_myula = sampler_myula.simulate()"
   ]
  },
  {
   "cell_type": "markdown",
   "id": "7b66863b",
   "metadata": {},
   "source": [
    "**Compare samples**"
   ]
  },
  {
   "cell_type": "code",
   "execution_count": 1,
   "id": "99cb4f51",
   "metadata": {},
   "outputs": [
    {
     "ename": "NameError",
     "evalue": "name 'np' is not defined",
     "output_type": "error",
     "traceback": [
      "\u001b[0;31m---------------------------------------------------------------------------\u001b[0m",
      "\u001b[0;31mNameError\u001b[0m                                 Traceback (most recent call last)",
      "Input \u001b[0;32mIn [1]\u001b[0m, in \u001b[0;36m<cell line: 1>\u001b[0;34m()\u001b[0m\n\u001b[0;32m----> 1\u001b[0m x_psgla \u001b[38;5;241m=\u001b[39m \u001b[43mnp\u001b[49m\u001b[38;5;241m.\u001b[39mreshape(x_psgla, (\u001b[38;5;241m-\u001b[39m\u001b[38;5;241m1\u001b[39m,))\n\u001b[1;32m      2\u001b[0m x_myula \u001b[38;5;241m=\u001b[39m np\u001b[38;5;241m.\u001b[39mreshape(x_myula, (\u001b[38;5;241m-\u001b[39m\u001b[38;5;241m1\u001b[39m,))\n\u001b[1;32m      4\u001b[0m fig, ax \u001b[38;5;241m=\u001b[39m plt\u001b[38;5;241m.\u001b[39msubplots(\u001b[38;5;241m1\u001b[39m, \u001b[38;5;241m2\u001b[39m, figsize\u001b[38;5;241m=\u001b[39m(\u001b[38;5;241m10\u001b[39m,\u001b[38;5;241m4\u001b[39m))\n",
      "\u001b[0;31mNameError\u001b[0m: name 'np' is not defined"
     ]
    }
   ],
   "source": [
    "x_psgla = np.reshape(x_psgla, (-1,))\n",
    "x_myula = np.reshape(x_myula, (-1,))\n",
    "\n",
    "fig, ax = plt.subplots(1, 2, figsize=(10,4))\n",
    "hist_psgla = ax[0].hist(x_psgla, 300, density=True)\n",
    "hist_myula = ax[1].hist(x_myula, 300, density=True)\n",
    "\n",
    "# plot corresponding densities\n",
    "my_posterior = pds.MY_Gamma_Gauss1D_Posterior_Salim21(data=D, nu=4, scale=np.sqrt(sigma2_true), gamma=gamma)\n",
    "t1 = np.reshape(np.linspace(1e-10, 4, 500),(1,-1))\n",
    "t2 = np.reshape(np.linspace(-2, 4, 500),(1,-1))\n",
    "dens_vals = posterior.pdf(t1)\n",
    "my_dens_vals = my_posterior.pdf(t2)\n",
    "\n",
    "pdf_plot_psgla = ax[0].plot(np.reshape(t1,(-1,)),np.reshape(dens_vals,(-1,)), color='r')\n",
    "xlims = ax[0].set_xlim(-1, 3.0)\n",
    "ylims = ax[0].set_ylim(0,2)\n",
    "ax[0].set_title('PLA, step = 0.01')\n",
    "\n",
    "pdf_plot_myula = ax[1].plot(np.reshape(t1,(-1,)),np.reshape(dens_vals,(-1,)), color='r')\n",
    "my_pdf_plot_myula = ax[1].plot(np.reshape(t2,(-1,)),np.reshape(my_dens_vals,(-1,1)), color='k')\n",
    "xlims = ax[1].set_xlim(-1, 3.0)\n",
    "ylims = ax[1].set_ylim(0,2)\n",
    "ax[1].set_title('MYULA, step = 0.01, smoothing parameter = 1');"
   ]
  },
  {
   "cell_type": "code",
   "execution_count": null,
   "id": "d0c7f601",
   "metadata": {},
   "outputs": [],
   "source": []
  },
  {
   "cell_type": "code",
   "execution_count": null,
   "id": "b46ca849",
   "metadata": {},
   "outputs": [],
   "source": []
  }
 ],
 "metadata": {
  "kernelspec": {
   "display_name": "Python 3 (ipykernel)",
   "language": "python",
   "name": "python3"
  },
  "language_info": {
   "codemirror_mode": {
    "name": "ipython",
    "version": 3
   },
   "file_extension": ".py",
   "mimetype": "text/x-python",
   "name": "python",
   "nbconvert_exporter": "python",
   "pygments_lexer": "ipython3",
   "version": "3.9.12"
  }
 },
 "nbformat": 4,
 "nbformat_minor": 5
}
