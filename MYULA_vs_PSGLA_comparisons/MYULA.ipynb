{
 "cells": [
  {
   "cell_type": "markdown",
   "metadata": {
    "id": "FU7vw9vBkxf2"
   },
   "source": [
    "# Setup"
   ]
  },
  {
   "cell_type": "code",
   "execution_count": 2,
   "metadata": {
    "cellView": "form",
    "executionInfo": {
     "elapsed": 184,
     "status": "ok",
     "timestamp": 1653576541160,
     "user": {
      "displayName": "Lorenz Kuger",
      "userId": "05017049336688377058"
     },
     "user_tz": -60
    },
    "id": "4dSCZpxQ34Zo"
   },
   "outputs": [],
   "source": [
    "#@title **Import statements** - Click 'Run' to import\n",
    "#@markdown - existing Python libraries\n",
    "#@markdown - auxiliary .py files from drive\n",
    "\n",
    "import numpy as np\n",
    "import matplotlib.pyplot as plt\n",
    "from numpy.random import default_rng\n",
    "import time\n",
    "\n",
    "import distributions as pd"
   ]
  },
  {
   "cell_type": "markdown",
   "metadata": {
    "id": "idGk2YxBnv0u"
   },
   "source": [
    "# Define target distribution\n",
    "The target probability distribution from which we want to sample is $\\pi$ with density function\n",
    "$$\\mathrm{d}\\pi = \\frac{1}{Z} \\exp(-V(x))\\,\\mathrm{d}x. $$\n",
    "Possible densities from distributions.py:\n",
    "\n",
    "| Distribution | Potential $V(x)$ | Density $\\frac{\\mathrm{d}\\pi}{\\mathrm{d}x}$ | MY envelope $V^\\gamma$ | MY-smoothed density $\\frac{\\mathrm{d}\\pi^\\gamma}{\\mathrm{d}x}$ |\n",
    "| --- | --- | --- | --- | --- |\n",
    "| Normal (mu=0, $\\sigma$=1) | $$\\frac{1}{2\\sigma^2} \\lVert x-\\mu\\rVert_2^2$$ | $$ (2\\pi\\sigma^2)^{-d/2}\\exp\\left(-\\frac{1}{2\\sigma} \\lVert x-\\mu\\rVert_2^2\\right)$$ | $$\\frac{1}{2(\\sigma^2+\\gamma)} \\lVert x-\\mu\\rVert_2^2$$ | $$ (2\\pi(\\sigma^2+\\gamma))^{-d/2}\\exp\\left(-\\frac{1}{2(\\sigma^2+\\gamma)} \\lVert x-\\mu\\rVert_2^2\\right)$$ |\n",
    "| Laplace (mu=0, b=1) | $$\\frac{\\lVert x - \\mu \\rVert_1}{b}$$ | $$\\frac{1}{2b}\\exp\\left(-\\frac{\\lVert x - \\mu \\rVert_1}{b}\\right)$$ | $$S_\\gamma(x) = \\textrm{sign}(x)\\max(|x|-\\gamma,0)$$ |  |\n",
    "| Uniform (a=-1,b=1) | $$\\iota_{[a,b]}$$ | $$\\frac{1}{b-a} \\chi_{[a,b]}$$ |  |  |\n"
   ]
  },
  {
   "cell_type": "code",
   "execution_count": 5,
   "metadata": {
    "colab": {
     "base_uri": "https://localhost:8080/"
    },
    "executionInfo": {
     "elapsed": 1738,
     "status": "ok",
     "timestamp": 1653576881115,
     "user": {
      "displayName": "Lorenz Kuger",
      "userId": "05017049336688377058"
     },
     "user_tz": -60
    },
    "id": "R8KMG7R87vnd",
    "outputId": "0f6ec7c9-2c2b-4d46-decf-e73e3c62e661"
   },
   "outputs": [
    {
     "name": "stdout",
     "output_type": "stream",
     "text": [
      "elapsed time: 1.5221289959999993 s\n",
      "\n"
     ]
    }
   ],
   "source": [
    "mu = 0\n",
    "sigma = 1\n",
    "gamma = 0.3\n",
    "my_normal = pd.MY_NormalDist(mu, sigma, gamma)\n",
    "normal = pd.MY_NormalDist(mu,sigma,0) # is the same as NormalDist(mu,b)\n",
    "\n",
    "n_samples = 500000\n",
    "h0 = 1\n",
    "maxiter = 100\n",
    "key = random.PRNGKey(238953267) # initialize pseudo-random number generator (PRNG)\n",
    "key, subkey = random.split(key)\n",
    "X = random.normal(subkey, (n_samples,))\n",
    "\n",
    "i = 0\n",
    "start_time = time.process_time()\n",
    "while i < maxiter:\n",
    "  i=i+1\n",
    "  h = h0/i\n",
    "  key, subkey = random.split(key) # update state of PRNG, otherwise it would create the same numbers again\n",
    "  X = X - h*my_normal.grad_pot(X) + jnp.sqrt(2*h) * random.normal(subkey, (n_samples,))\n",
    "\n",
    "print('elapsed time: ' + str(time.process_time() - start_time) + ' s\\n')"
   ]
  },
  {
   "cell_type": "code",
   "execution_count": 6,
   "metadata": {
    "colab": {
     "base_uri": "https://localhost:8080/",
     "height": 282
    },
    "executionInfo": {
     "elapsed": 1628,
     "status": "ok",
     "timestamp": 1653576886977,
     "user": {
      "displayName": "Lorenz Kuger",
      "userId": "05017049336688377058"
     },
     "user_tz": -60
    },
    "id": "WKT8EOdcUUn5",
    "outputId": "8ccf8512-3eee-4e26-fc77-cc7a142e7230"
   },
   "outputs": [
    {
     "data": {
      "text/plain": [
       "[<matplotlib.lines.Line2D at 0x7fd519d80c10>]"
      ]
     },
     "execution_count": 6,
     "metadata": {},
     "output_type": "execute_result"
    },
    {
     "data": {
      "image/png": "[encoded data removed]",
      "text/plain": [
       "<Figure size 432x288 with 1 Axes>"
      ]
     },
     "metadata": {
      "needs_background": "light"
     },
     "output_type": "display_data"
    }
   ],
   "source": [
    "grid = jnp.linspace(-3,3,501)\n",
    "plt.hist(X,bins=grid,density=True)\n",
    "plt.plot(grid, my_normal.density(grid), 'r', linewidth=3)\n",
    "plt.plot(grid, normal.density(grid), 'b', linewidth=3)"
   ]
  }
 ],
 "metadata": {
  "colab": {
   "collapsed_sections": [],
   "name": "MYULA.ipynb",
   "provenance": []
  },
  "kernelspec": {
   "display_name": "Python 3 (ipykernel)",
   "language": "python",
   "name": "python3"
  },
  "language_info": {
   "codemirror_mode": {
    "name": "ipython",
    "version": 3
   },
   "file_extension": ".py",
   "mimetype": "text/x-python",
   "name": "python",
   "nbconvert_exporter": "python",
   "pygments_lexer": "ipython3",
   "version": "3.9.7"
  }
 },
 "nbformat": 4,
 "nbformat_minor": 1
}
