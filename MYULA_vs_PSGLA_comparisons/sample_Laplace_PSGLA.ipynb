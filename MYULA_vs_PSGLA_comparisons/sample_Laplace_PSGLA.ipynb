{
 "cells": [
  {
   "cell_type": "code",
   "execution_count": 1,
   "id": "2ff8543f",
   "metadata": {},
   "outputs": [],
   "source": [
    "import numpy as np\n",
    "import matplotlib.pyplot as plt\n",
    "\n",
    "from psgla import *\n",
    "import distributions as pds\n",
    "import potentials as pot"
   ]
  },
  {
   "cell_type": "code",
   "execution_count": 15,
   "id": "749e125b",
   "metadata": {
    "scrolled": true
   },
   "outputs": [],
   "source": [
    "mu = 5\n",
    "b = 1\n",
    "laplace_dist = pds.Laplace(d=1, mu=mu, b=b)\n",
    "tau = 0.1\n",
    "max_iter = np.round(10/tau)\n",
    "n_samples = 50000\n",
    "sampler = PSGLA(max_iter, tau, x0 = mu*np.ones((1,n_samples)), pd = laplace_dist)\n",
    "\n",
    "x = sampler.simulate()"
   ]
  },
  {
   "cell_type": "code",
   "execution_count": 16,
   "id": "cd009fc7",
   "metadata": {},
   "outputs": [
    {
     "data": {
      "image/png": "[encoded data removed]",
      "text/plain": [
       "<Figure size 432x288 with 1 Axes>"
      ]
     },
     "metadata": {
      "needs_background": "light"
     },
     "output_type": "display_data"
    }
   ],
   "source": [
    "x = np.reshape(x, (-1,))\n",
    "samples_hist = plt.hist(x, 500, density=True)\n",
    "t = np.reshape(np.linspace(mu-3*2*b**2,mu+3*2*b**2,500),(1,-1))\n",
    "w = laplace_dist.pdf(t)\n",
    "pdf_plot = plt.plot(np.reshape(t,(-1,)),np.reshape(w,(-1,)), color='r')\n",
    "xlims = plt.xlim(mu-3*2*b**2,mu+3*2*b**2)\n",
    "ylims = plt.ylim(0,0.8)"
   ]
  },
  {
   "cell_type": "code",
   "execution_count": null,
   "id": "09ca24dc",
   "metadata": {},
   "outputs": [],
   "source": []
  }
 ],
 "metadata": {
  "kernelspec": {
   "display_name": "Python 3 (ipykernel)",
   "language": "python",
   "name": "python3"
  },
  "language_info": {
   "codemirror_mode": {
    "name": "ipython",
    "version": 3
   },
   "file_extension": ".py",
   "mimetype": "text/x-python",
   "name": "python",
   "nbconvert_exporter": "python",
   "pygments_lexer": "ipython3",
   "version": "3.9.7"
  }
 },
 "nbformat": 4,
 "nbformat_minor": 5
}
