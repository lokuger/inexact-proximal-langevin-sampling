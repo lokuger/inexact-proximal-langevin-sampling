{
 "cells": [
  {
   "cell_type": "code",
   "execution_count": 1,
   "id": "8f655c93",
   "metadata": {},
   "outputs": [],
   "source": [
    "import numpy as np\n",
    "import matplotlib.pyplot as plt\n",
    "from numpy.random import default_rng\n",
    "import ot\n",
    "from ipywidgets import interact\n",
    "\n",
    "from psgla import *\n",
    "from myula import *\n",
    "from pdla import *\n",
    "import distributions as pds\n",
    "import potentials as pot"
   ]
  },
  {
   "cell_type": "code",
   "execution_count": 2,
   "id": "0b5887df",
   "metadata": {},
   "outputs": [],
   "source": [
    "%matplotlib inline"
   ]
  },
  {
   "cell_type": "markdown",
   "id": "c8955327",
   "metadata": {},
   "source": [
    "**Define the posterior distribution**\\\n",
    "The prior is assumed to be a Gamma distribution with shape parameter $\\alpha = \\frac{\\nu}{2}$, the likelihood is mean estimation for the data points $d_i$:\\\n",
    "$$\\pi(x) \\propto \\exp(-V(x)),\\quad V(x) = \\frac{1}{2\\sigma^2}\\sum_{i=1}^n (x - d_i)^2 + (1-\\nu/2)\\log x + x/2 =: F(x) + G(x),$$\n",
    "or written differently for PDLA: $$V(x) = \\frac{1}{2\\sigma^2}\\lVert\\mathbf{1}x - d\\rVert_2^2 + (1-\\nu/2)\\log x + x/2 =: D(Kx) + G(x)$$ where $K = \\mathbf{1}$.\n",
    "Require $\\nu > 2$ since we want a log-concave distribution.\n",
    "\n",
    "**PSGLA:**\n",
    "$$ X_{k+1} = \\textrm{prox}_{\\tau G} \\left(X_k - \\tau \\nabla F(X_k) + \\sqrt{2\\tau}\\, \\xi_{k+1} \\right) $$\n",
    "**MYULA:**\n",
    "$$ X_{k+1} = X_k - \\tau \\nabla F(X_k) - \\tau \\nabla(G^\\gamma)(X_k) + \\sqrt{2\\tau}\\, \\xi_{k+1} $$\n",
    "**PDLA:**\n",
    "$$ \\begin{array}{l}\n",
    "Y_{k+1} = \\textrm{prox}_{\\sigma D^\\ast} \\left(Y_k + \\sigma K (2X_k-X_{k-1}) \\right)\\\\\n",
    "X_{k+1} = \\textrm{prox}_{\\tau G} \\left(X_k - \\tau K^\\ast Y_{k+1} + \\sqrt{2\\tau}\\, \\xi_{k+1} \\right)\\\\\n",
    "\\end{array}$$"
   ]
  },
  {
   "cell_type": "code",
   "execution_count": 3,
   "id": "bff51406",
   "metadata": {
    "scrolled": false
   },
   "outputs": [
    {
     "data": {
      "image/png": "[encoded data removed]",
      "text/plain": [
       "<Figure size 360x360 with 1 Axes>"
      ]
     },
     "metadata": {
      "needs_background": "light"
     },
     "output_type": "display_data"
    }
   ],
   "source": [
    "mu_true = 0.8\n",
    "sigma2_true = 0.5\n",
    "n_data = 10\n",
    "nu = 4\n",
    "rng = default_rng(34523)\n",
    "data = rng.normal(loc=mu_true,scale=np.sqrt(sigma2_true),size=(n_data,))\n",
    "posterior = pds.Gamma_Gauss1D_Posterior_Salim21(data=data, scale=np.sqrt(sigma2_true), nu=nu)\n",
    "# metaparameter of the distribution: norm of K in ||.||_2\n",
    "L = np.linalg.norm(posterior.F.K)**2\n",
    "t = np.reshape(np.linspace(1e-4, 5*nu+np.mean(data),500),(1,-1))\n",
    "dens_vals = posterior.pdf(t)\n",
    "\n",
    "plt.figure(figsize=(5,5))\n",
    "unscaled_dens_plot = plt.plot(np.reshape(t,(-1,)),np.reshape(dens_vals,(-1,)))\n",
    "xlims = plt.xlim(-1, 3.0)\n",
    "ylims = plt.ylim(0,2)\n",
    "mu_map = sigma2_true/(2*n_data)*(n_data/sigma2_true*np.mean(data)-1/2 + np.sqrt((1/2-n_data/sigma2_true*np.mean(data))**2 - 4*n_data/sigma2_true*(1-nu/2)))\n",
    "plt.plot([mu_map, mu_map],[0,2])\n",
    "plt.show()"
   ]
  },
  {
   "cell_type": "markdown",
   "id": "ffc032cb",
   "metadata": {},
   "source": [
    "**Run PSGLA with tiny step to approximate the ground truth**"
   ]
  },
  {
   "cell_type": "code",
   "execution_count": 4,
   "id": "63fd4baa",
   "metadata": {},
   "outputs": [],
   "source": [
    "tau_almostgt_psgla = 0.9/L * 0.001\n",
    "max_iter_almostgt = 2000\n",
    "n_samples_gt = 1000\n",
    "# initialize at the MAP\n",
    "x0_gt = mu_map*np.ones((1,n_samples_gt))\n",
    "psgla_almostgt = PSGLA(max_iter_almostgt, tau_almostgt_psgla, x0_gt, pd = posterior)\n",
    "\n",
    "x_almostgt = psgla_almostgt.simulate(return_all=True)"
   ]
  },
  {
   "cell_type": "markdown",
   "id": "2dd18590",
   "metadata": {},
   "source": [
    "**Sample using P(S)GLA, MYULA and PDLA**"
   ]
  },
  {
   "cell_type": "code",
   "execution_count": 14,
   "id": "a7c45a3d",
   "metadata": {},
   "outputs": [],
   "source": [
    "max_iter = 40\n",
    "n_samples = 1000\n",
    "\n",
    "# PSGLA\n",
    "tau_psgla = 0.9/L * 0.001\n",
    "x0 = mu_map*np.ones((1,n_samples))\n",
    "psgla = PSGLA(max_iter, tau_psgla, x0, pd = posterior)\n",
    "x_psgla, W2dist_psgla = psgla.simulate(x_comp = x_almostgt[:,:,1000:2000],return_all=True)\n",
    "\n",
    "# MYULA\n",
    "gamma_myula = 0.5\n",
    "tau_myula = 0.9/(L + 1/gamma_myula) * 0.001\n",
    "myula = MYULA(max_iter, tau_myula, gamma_myula, x0, pd = posterior)\n",
    "x_myula, W2dist_myula = myula.simulate(x_comp = x_almostgt[:,:,1000:2000],return_all=True)\n",
    "\n",
    "# PDLA\n",
    "tau_pdla = 0.9 * 0.001\n",
    "sigma_pdla = tau_pdla/(0.9*L)\n",
    "x0 = mu_map*np.ones((1,n_samples))\n",
    "y0 = np.zeros((n_data,n_samples))\n",
    "G_pdla = posterior.G\n",
    "D_pdla = pot.L2norm(d=n_data,mu=np.reshape(data,(-1,1)))\n",
    "K_pdla = np.ones((n_data,1))\n",
    "pdla = PDLA(max_iter, sigma_pdla, tau_pdla, x0, y0, F=pot.Zero(), G=G_pdla, D=D_pdla, K=K_pdla)\n",
    "x_pdla, y_pdla, W2dist_pdla = pdla.simulate(x_comp = x_almostgt[:,:,1000:2000],return_all=True)"
   ]
  },
  {
   "cell_type": "markdown",
   "id": "4e232791",
   "metadata": {},
   "source": [
    "**Compare PSGLA, MYULA and PDLA samples**"
   ]
  },
  {
   "cell_type": "code",
   "execution_count": 15,
   "id": "f46a816b",
   "metadata": {
    "scrolled": false
   },
   "outputs": [
    {
     "data": {
      "application/vnd.jupyter.widget-view+json": {
       "model_id": "c0884c862a63485cb96d8a81919eb63c",
       "version_major": 2,
       "version_minor": 0
      },
      "text/plain": [
       "interactive(children=(IntSlider(value=40, description='k', max=40), Output()), _dom_classes=('widget-interact'…"
      ]
     },
     "metadata": {},
     "output_type": "display_data"
    },
    {
     "data": {
      "text/plain": [
       "<function __main__.hist_iterates(k=40)>"
      ]
     },
     "execution_count": 15,
     "metadata": {},
     "output_type": "execute_result"
    }
   ],
   "source": [
    "# density functions\n",
    "my_posterior = pds.MY_Gamma_Gauss1D_Posterior_Salim21(data=data, scale=np.sqrt(sigma2_true), nu=4, gamma=gamma_myula)\n",
    "t1 = np.reshape(np.linspace(1e-10, 4, 500),(1,-1))\n",
    "t2 = np.reshape(np.linspace(-0.4, 4, 500),(1,-1))\n",
    "dens_vals = posterior.pdf(t1)\n",
    "my_dens_vals = my_posterior.pdf(t2)   \n",
    "        \n",
    "# histograms of samples\n",
    "x_almostgt_r = np.reshape(x_almostgt[:,:,1000:2000], (-1,))\n",
    "x_psgla = np.reshape(x_psgla, (n_samples,1,max_iter+1))\n",
    "x_myula = np.reshape(x_myula, (n_samples,1,max_iter+1))\n",
    "x_pdla = np.reshape(x_pdla, (n_samples,1,max_iter+1))\n",
    "\n",
    "def hist_iterates(k=max_iter):\n",
    "    fig, ax = plt.subplots(2, 2, figsize=(25,10))\n",
    "    ax[0,0].set_xlim(-0.4, 3);  ax[0,0].set_ylim(0,2.2);\n",
    "    \n",
    "    pdf_plot_gt = ax[0,0].plot(np.reshape(t1,(-1,)),np.reshape(dens_vals,(-1,)), color='r',label='pdf')\n",
    "    ax[0,0].set_title('PSGLA, step = {:.1e}'.format(tau_almostgt_psgla));\n",
    "    pdf_plot_psgla = ax[0,1].plot(np.reshape(t1,(-1,)),np.reshape(dens_vals,(-1,)), color='r',label='pdf')\n",
    "    ax[0,1].set_title('PSGLA, step = {:.1e}'.format(tau_psgla));\n",
    "    pdf_plot_myula = ax[1,0].plot(np.reshape(t1,(-1,)),np.reshape(dens_vals,(-1,)), color='r',label='pdf')\n",
    "    my_pdf_plot_myula = ax[1,0].plot(np.reshape(t2,(-1,)),np.reshape(my_dens_vals,(-1,1)), color='k',label='MY smoothed pdf')\n",
    "    ax[1,0].set_title('MYULA, step = {:.1e}'.format(tau_myula));\n",
    "    pdf_plot_pdla = ax[1,1].plot(np.reshape(t1,(-1,)),np.reshape(dens_vals,(-1,)), color='r',label='pdf')\n",
    "    ax[1,1].set_title('PDLA, tau = {:.1e}, sigma = {:.1e}'.format(tau_pdla,sigma_pdla));\n",
    "\n",
    "    hist_gt = ax[0,0].hist(x_almostgt_r, 100, density=True);\n",
    "    hist_psgla = ax[0,1].hist(x_psgla[:,:,k], 100, density=True);\n",
    "    ax[0,1].set_xlim(-0.4, 3);  ax[0,1].set_ylim(0,2.2);\n",
    "    hist_myula = ax[1,0].hist(x_myula[:,:,k], 100, density=True);\n",
    "    ax[1,0].set_xlim(-0.4, 3);  ax[1,0].set_ylim(0,2.2);\n",
    "    hist_pdla = ax[1,1].hist(x_pdla[:,:,k], 100, density=True);\n",
    "    ax[1,1].set_xlim(-0.4, 3);  ax[1,1].set_ylim(0,2.2);\n",
    "interact(hist_iterates, k=(0,max_iter))\n",
    "#hist_iterates()"
   ]
  },
  {
   "cell_type": "code",
   "execution_count": 16,
   "id": "68b0ca30",
   "metadata": {},
   "outputs": [
    {
     "data": {
      "image/png": "[encoded data removed]",
      "text/plain": [
       "<Figure size 432x288 with 1 Axes>"
      ]
     },
     "metadata": {
      "needs_background": "light"
     },
     "output_type": "display_data"
    }
   ],
   "source": [
    "plt.semilogy(W2dist_pdla,label='PDLA')\n",
    "plt.semilogy(W2dist_psgla, label='PSGLA')\n",
    "plt.semilogy(W2dist_myula, label='MYULA')\n",
    "plt.legend()\n",
    "plt.ylim(1e-5,1e1);"
   ]
  },
  {
   "cell_type": "code",
   "execution_count": null,
   "id": "d0540451",
   "metadata": {},
   "outputs": [],
   "source": []
  }
 ],
 "metadata": {
  "kernelspec": {
   "display_name": "Python 3 (ipykernel)",
   "language": "python",
   "name": "python3"
  },
  "language_info": {
   "codemirror_mode": {
    "name": "ipython",
    "version": 3
   },
   "file_extension": ".py",
   "mimetype": "text/x-python",
   "name": "python",
   "nbconvert_exporter": "python",
   "pygments_lexer": "ipython3",
   "version": "3.10.8"
  }
 },
 "nbformat": 4,
 "nbformat_minor": 5
}
